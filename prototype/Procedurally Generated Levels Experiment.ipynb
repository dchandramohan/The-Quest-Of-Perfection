{
 "cells": [
  {
   "cell_type": "markdown",
   "metadata": {},
   "source": [
    "# The Quest of Perfection (Prototype)\n",
    "\n",
    "## Drawing a scene\n",
    "I'm testing out procedurally generated levels in this notebook. I generated a couple textures and now I'm going to try to put them together into a scene!"
   ]
  },
  {
   "cell_type": "code",
   "execution_count": 1,
   "metadata": {},
   "outputs": [],
   "source": [
    "# first import useful packages\n",
    "from ipywidgets import Image, HBox # \"HBox\" is for a sanity check\n",
    "from ipycanvas import Canvas, hold_canvas"
   ]
  },
  {
   "cell_type": "markdown",
   "metadata": {},
   "source": [
    "I'm using the [ipycanvas (Interactive Canvas in Jupyter)](https://ipycanvas.readthedocs.io/en/latest/index.html) package to make manipulating the images easier..."
   ]
  },
  {
   "cell_type": "markdown",
   "metadata": {},
   "source": [
    "## Load the images\n",
    "Load the texture/sprite images I generated and collect some of their properties..."
   ]
  },
  {
   "cell_type": "code",
   "execution_count": 2,
   "metadata": {},
   "outputs": [],
   "source": [
    "im_Sprite = Image.from_file('img/sprite0.png')\n",
    "\n",
    "im_txGrnd = Image.from_file('img/texture_Ground.png')\n",
    "im_txStar = Image.from_file('img/texture_Gem.png')"
   ]
  },
  {
   "cell_type": "code",
   "execution_count": 3,
   "metadata": {},
   "outputs": [
    {
     "data": {
      "text/plain": [
       "{'_trait_values': {'_model_module': '@jupyter-widgets/controls',\n",
       "  '_model_module_version': '1.5.0',\n",
       "  '_model_name': 'ImageModel',\n",
       "  '_view_count': None,\n",
       "  '_view_module': '@jupyter-widgets/controls',\n",
       "  '_view_module_version': '1.5.0',\n",
       "  '_view_name': 'ImageView',\n",
       "  'format': 'png',\n",
       "  'height': '',\n",
       "  'value': b'\\x89PNG\\r\\n\\x1a\\n\\x00\\x00\\x00\\rIHDR\\x00\\x00\\x00 \\x00\\x00\\x000\\x08\\x06\\x00\\x00\\x00p\\xacxo\\x00\\x00\\x00\\x06bKGD\\x00\\x85\\x00Q\\x00(\\xd8\\x8eh\\xe0\\x00\\x00\\x00\\tpHYs\\x00\\x00.#\\x00\\x00.#\\x01x\\xa5?v\\x00\\x00\\x00\\x07tIME\\x07\\xe3\\x04\\x01\\x07\\x0b4\\xd679\\xd2\\x00\\x00\\x00\\x19tEXtComment\\x00Created with GIMPW\\x81\\x0e\\x17\\x00\\x00\\x01\\xb0IDATX\\xc3\\xed\\x981n\\xc30\\x0cEI\\xc1\\xcd\\x01z\\x81\"\\xc8\\x1e\\xf8\\x0c>\\x84\\xa7\\x9e\"[;\\x17\\x1ds\\x10\\x1f\"g\\x10\\xbc\\x1bA\\x8f\\xd0\\xd5\\x1d\\xd4\\xa1V\\xa1(\\x94D1\\xb2k \\x15\\x10$\\x96L\\xbe/\\x9a\\xa2\\x14\\x03\\xdc{C\\xa1\\x9d)\\xe5\\x0f\\x0b@o\\xf2\\x8d\\x05\\x81\"\\x16\\xce\\x05>4\\xdb\\xdf\\xdf\\xc7\\xd39\\xc8\\xc4Rp\\x17\\x18\\x00\\x93\\xdc\\xaa\\xe4\\xcc#@*\\xca\\x08\\x00\\xa0\\xe6\\n;7\\xa91W@&$\\x15\\x1d\\x8c\\n\\x90\\xc2|h\\xc8\\xcf\\xf1t\\xfe\\x11ph\\xb6F\\xea\\x84;\\xe3\\xc0\\xaa@e;\\xa8\\x10\\xb9}\\x19\\tv\\x05\\x8c\\x89W%\\x9c\\xc4\\xecSvH-\\xc3\\xc83\\x13\\xaf\\x08\\xc2\\x16\\xa3\\x85\\xc8:\\xc8\\r}nY\\x9e\\xad\\x14s\\xf7\\x04\\xcc\\xd9\\x88\\xb8y\\xc0)\\xc1\\xdc-3KH\\x0e\\x98\\xdd\\xea\\xba6\\x93\\x90\\xec\\xcfd+;\\x0fP\\xc6Zk\\xaeh l\\xd9\\xe7\\x01\\xe0(\\x974J\\x04r\\xe1\\xef_\\x1f\\x17\\xd7\\xaf\\x0fOY\\xe3!\\x11(\\x99\\xb9\\x85Y\\x08u\\x1d\\x12\\xe0\\x8bP\\\\\\xb8;C\\xca\\xb9\\xdb\\x17\\x83\\xfb,%y\\x96~\\xb8\\xfd>j<\\xba\\nB\\xb3\\xd7Z\\xa3\\x1d\\x93\\xe6\\x80\\xeb\\x83\\xf2_q\\x95\\xa6\\xc2\\x9a\\x1a\\x17m\\xc7K\\xb4\\x8a\\xb1v\\x83c]\\xd7\\x01\\x00@\\xdb\\xb6b\\x01*\\xa7h\\x94,@\\x17\\x11h\\x1e?\\xaf\\x8d\\xa6\\xef\\xcdn\\x1ft\\xfc\\xfc\\xf2\\x96\\xbcg\\x1cz\\x881\\xfe<\\x07\\xec\\xa1\\x14\\xfd\\xe32\\xc7x\\x1cz\\x1c\\x87\\x9euo\\x88\\xa1r\\xa1%\\x9a\\xcbJB7\\xbb\\xbd\\x89E\\x80{\\xcf-\\'\\x15\\xc3\\xb07R\\xc6:\\x92\\xf0\\xae\\x05T\\x0b\\xbc#2\\xb1\\\\P\\x0b\\xbd\\xa0\\n\\xfaT\\x0b\\xff32\\xabOB\\xb3\\x00\\xd3\\xfc/\\xc3U\\t\\xf8\\x06s\\xcb\\xd5E{F\\xc8\\x8e\\x00\\x00\\x00\\x00IEND\\xaeB`\\x82',\n",
       "  'width': '',\n",
       "  'comm': <ipykernel.comm.comm.Comm at 0x7f668fb0beb0>,\n",
       "  'keys': ['_dom_classes',\n",
       "   '_model_module',\n",
       "   '_model_module_version',\n",
       "   '_model_name',\n",
       "   '_view_count',\n",
       "   '_view_module',\n",
       "   '_view_module_version',\n",
       "   '_view_name',\n",
       "   'format',\n",
       "   'height',\n",
       "   'layout',\n",
       "   'value',\n",
       "   'width'],\n",
       "  '_dom_classes': (),\n",
       "  'layout': Layout()},\n",
       " '_trait_notifiers': {'comm': {'change': [<traitlets.traitlets.ObserveHandler at 0x7f66b42a6a00>]}},\n",
       " '_trait_validators': {},\n",
       " '_cross_validation_lock': False,\n",
       " '_model_id': 'e84e3eec3c4c45c190308523c2ed3ba2'}"
      ]
     },
     "execution_count": 3,
     "metadata": {},
     "output_type": "execute_result"
    }
   ],
   "source": [
    "im_Sprite.__dict__"
   ]
  },
  {
   "cell_type": "markdown",
   "metadata": {},
   "source": [
    "Ok... so what I learned from the above is that the height, width, etc, etc, info are not stored automatically when the images is loaded (I think)... Thankfully I know the dimensions of the images (I also think), because I created them!\n",
    "\n",
    "The following syntax is derived from the examples [here](https://ipycanvas.readthedocs.io/en/latest/drawing_images.html)."
   ]
  },
  {
   "cell_type": "code",
   "execution_count": 4,
   "metadata": {},
   "outputs": [
    {
     "data": {
      "application/vnd.jupyter.widget-view+json": {
       "model_id": "22144a7e3d02412a98edece68f5619c1",
       "version_major": 2,
       "version_minor": 0
      },
      "text/plain": [
       "HBox(children=(Canvas(height=48, width=36), Canvas(height=48, width=36), Canvas(height=48, width=36), Canvas(h…"
      ]
     },
     "metadata": {},
     "output_type": "display_data"
    }
   ],
   "source": [
    "# hard-coded width/height in px\n",
    "# ... I'm adding a little padding to my sprite which is 32 x 48 px\n",
    "cSprite = Canvas(width=36, height=48)\n",
    "cTxGrnd = Canvas(width=600, height=124)\n",
    "cTxStar = Canvas(width=136, height=152)\n",
    "\n",
    "cSprite.draw_image(im_Sprite, 2, 0)\n",
    "cTxGrnd.draw_image(im_txGrnd, 0, 0)\n",
    "cTxStar.draw_image(im_txStar, 0, 0)\n",
    "\n",
    "cPlatform = Canvas(width=100, height=56)\n",
    "cPlatform.draw_image(cTxGrnd, 0, 0, width=(56/124)*600, height=56)\n",
    "\n",
    "cStar = Canvas(width=42, height=48)\n",
    "cStar.draw_image(cTxStar, 0, 0, width=42, height=48)\n",
    "\n",
    "# sanity check!\n",
    "HBox([cSprite,cSprite,cSprite,cTxGrnd,cTxStar])"
   ]
  },
  {
   "cell_type": "code",
   "execution_count": 5,
   "metadata": {},
   "outputs": [
    {
     "data": {
      "application/vnd.jupyter.widget-view+json": {
       "model_id": "19b7f7244e1c44f39abd9945fe9fc5fa",
       "version_major": 2,
       "version_minor": 0
      },
      "text/plain": [
       "Canvas(height=600)"
      ]
     },
     "metadata": {},
     "output_type": "display_data"
    }
   ],
   "source": [
    "from random import randint\n",
    "\n",
    "cScene = Canvas(Width=600, height=600)\n",
    "\n",
    "cScene.fill_style = '#a9cafc'\n",
    "cScene.fill_rect(0, 0, 600, 600)\n",
    "\n",
    "cScene.draw_image(cTxGrnd, 0, 600-124)\n",
    "cScene.draw_image(cSprite, 10, 600-(48+124))\n",
    "\n",
    "cScene.draw_image(cPlatform, 275, 250)\n",
    "cScene.draw_image(cStar, \n",
    "                  275 + 50 - 42/2, # x-pos: centered on platform\n",
    "                  250 - 50) # y-pos: hovering 2 px over platform\n",
    "\n",
    "cScene.draw_image(cPlatform, randint(50,200), 350)\n",
    "cScene.draw_image(cPlatform, randint(300,450), 350)\n",
    "\n",
    "xtop =  randint(25,475)\n",
    "cScene.draw_image(cPlatform, xtop, 100)\n",
    "cScene.draw_image(cStar, \n",
    "                  xtop + 50 - 42/2, # x-pos: centered on platform\n",
    "                  100 - 50) # y-pos: hovering 2 px over platform\n",
    "\n",
    "cScene"
   ]
  },
  {
   "cell_type": "markdown",
   "metadata": {},
   "source": [
    "If you run the previous cell a few times the blocks on the lowest level and the blocks on the highest level change positions based on the random value returned by `randint`!\n",
    "\n",
    "So we've done it... we've generated a basic procedurally generated map...\n",
    "\n",
    "In order to make these maps actually winnable we would have to put in some logic so that, for example, the blocks/platforms aren't too far apart for the sprite to jump to/from.\n",
    "\n",
    "But at least it's a start!"
   ]
  }
 ],
 "metadata": {
  "kernelspec": {
   "display_name": "Python 3",
   "language": "python",
   "name": "python3"
  },
  "language_info": {
   "codemirror_mode": {
    "name": "ipython",
    "version": 3
   },
   "file_extension": ".py",
   "mimetype": "text/x-python",
   "name": "python",
   "nbconvert_exporter": "python",
   "pygments_lexer": "ipython3",
   "version": "3.8.2"
  }
 },
 "nbformat": 4,
 "nbformat_minor": 2
}
